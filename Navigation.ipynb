{
 "cells": [
  {
   "cell_type": "markdown",
   "metadata": {},
   "source": [
    "# Navigation\n",
    "\n",
    "---\n",
    "\n",
    "You are welcome to use this coding environment to train your agent for the project.  Follow the instructions below to get started!\n",
    "\n",
    "### 1. Start the Environment\n",
    "\n",
    "Run the next code cell to install a few packages.  This line will take a few minutes to run!"
   ]
  },
  {
   "cell_type": "code",
   "execution_count": 1,
   "metadata": {},
   "outputs": [
    {
     "name": "stdout",
     "output_type": "stream",
     "text": [
      "\u001b[31mtensorflow 1.7.1 has requirement numpy>=1.13.3, but you'll have numpy 1.12.1 which is incompatible.\u001b[0m\r\n",
      "\u001b[31mipython 6.5.0 has requirement prompt-toolkit<2.0.0,>=1.0.15, but you'll have prompt-toolkit 3.0.10 which is incompatible.\u001b[0m\r\n"
     ]
    }
   ],
   "source": [
    "!pip -q install ./python"
   ]
  },
  {
   "cell_type": "markdown",
   "metadata": {},
   "source": [
    "The environment is already saved in the Workspace and can be accessed at the file path provided below.  Please run the next code cell without making any changes."
   ]
  },
  {
   "cell_type": "code",
   "execution_count": 2,
   "metadata": {},
   "outputs": [
    {
     "name": "stderr",
     "output_type": "stream",
     "text": [
      "INFO:unityagents:\n",
      "'Academy' started successfully!\n",
      "Unity Academy name: Academy\n",
      "        Number of Brains: 1\n",
      "        Number of External Brains : 1\n",
      "        Lesson number : 0\n",
      "        Reset Parameters :\n",
      "\t\t\n",
      "Unity brain name: BananaBrain\n",
      "        Number of Visual Observations (per agent): 0\n",
      "        Vector Observation space type: continuous\n",
      "        Vector Observation space size (per agent): 37\n",
      "        Number of stacked Vector Observation: 1\n",
      "        Vector Action space type: discrete\n",
      "        Vector Action space size (per agent): 4\n",
      "        Vector Action descriptions: , , , \n"
     ]
    }
   ],
   "source": [
    "from unityagents import UnityEnvironment\n",
    "import numpy as np\n",
    "\n",
    "# please do not modify the line below\n",
    "env = UnityEnvironment(file_name=\"/data/Banana_Linux_NoVis/Banana.x86_64\")"
   ]
  },
  {
   "cell_type": "markdown",
   "metadata": {},
   "source": [
    "Environments contain **_brains_** which are responsible for deciding the actions of their associated agents. Here we check for the first brain available, and set it as the default brain we will be controlling from Python."
   ]
  },
  {
   "cell_type": "code",
   "execution_count": 3,
   "metadata": {},
   "outputs": [],
   "source": [
    "# get the default brain\n",
    "brain_name = env.brain_names[0]\n",
    "brain = env.brains[brain_name]"
   ]
  },
  {
   "cell_type": "markdown",
   "metadata": {},
   "source": [
    "### 2. Examine the State and Action Spaces\n",
    "\n",
    "Run the code cell below to print some information about the environment."
   ]
  },
  {
   "cell_type": "code",
   "execution_count": 4,
   "metadata": {},
   "outputs": [
    {
     "name": "stdout",
     "output_type": "stream",
     "text": [
      "Number of agents: 1\n",
      "Number of actions: 4\n",
      "States look like: [ 1.          0.          0.          0.          0.84408134  0.          0.\n",
      "  1.          0.          0.0748472   0.          1.          0.          0.\n",
      "  0.25755     1.          0.          0.          0.          0.74177343\n",
      "  0.          1.          0.          0.          0.25854847  0.          0.\n",
      "  1.          0.          0.09355672  0.          1.          0.          0.\n",
      "  0.31969345  0.          0.        ]\n",
      "States have length: 37\n"
     ]
    }
   ],
   "source": [
    "# reset the environment\n",
    "env_info = env.reset(train_mode=True)[brain_name]\n",
    "\n",
    "# number of agents in the environment\n",
    "print('Number of agents:', len(env_info.agents))\n",
    "\n",
    "# number of actions\n",
    "action_size = brain.vector_action_space_size\n",
    "print('Number of actions:', action_size)\n",
    "\n",
    "# examine the state space \n",
    "state = env_info.vector_observations[0]\n",
    "print('States look like:', state)\n",
    "state_size = len(state)\n",
    "print('States have length:', state_size)"
   ]
  },
  {
   "cell_type": "markdown",
   "metadata": {},
   "source": [
    "### 3. Take Random Actions in the Environment\n",
    "\n",
    "In the next code cell, you will learn how to use the Python API to control the agent and receive feedback from the environment.\n",
    "\n",
    "Note that **in this coding environment, you will not be able to watch the agent while it is training**, and you should set `train_mode=True` to restart the environment."
   ]
  },
  {
   "cell_type": "code",
   "execution_count": 5,
   "metadata": {},
   "outputs": [
    {
     "name": "stdout",
     "output_type": "stream",
     "text": [
      "Score: 0.0\n"
     ]
    }
   ],
   "source": [
    "env_info = env.reset(train_mode=True)[brain_name]  # reset the environment\n",
    "state = env_info.vector_observations[0]            # get the current state\n",
    "score = 0                                          # initialize the score\n",
    "while True:\n",
    "    action = np.random.randint(action_size)        # select an action\n",
    "    env_info = env.step(action)[brain_name]        # send the action to the environment\n",
    "    next_state = env_info.vector_observations[0]   # get the next state\n",
    "    reward = env_info.rewards[0]                   # get the reward\n",
    "    done = env_info.local_done[0]                  # see if episode has finished\n",
    "    score += reward                                # update the score\n",
    "    state = next_state                             # roll over the state to next time step\n",
    "    if done:                                       # exit loop if episode finished\n",
    "        break\n",
    "    \n",
    "print(\"Score: {}\".format(score))"
   ]
  },
  {
   "cell_type": "markdown",
   "metadata": {},
   "source": [
    "When finished, you can close the environment."
   ]
  },
  {
   "cell_type": "code",
   "execution_count": 3,
   "metadata": {},
   "outputs": [],
   "source": [
    "env.close()"
   ]
  },
  {
   "cell_type": "markdown",
   "metadata": {},
   "source": [
    "### 4. It's Your Turn!\n",
    "\n",
    "Now it's your turn to train your own agent to solve the environment!  A few **important notes**:\n",
    "- When training the environment, set `train_mode=True`, so that the line for resetting the environment looks like the following:\n",
    "```python\n",
    "env_info = env.reset(train_mode=True)[brain_name]\n",
    "```\n",
    "- To structure your work, you're welcome to work directly in this Jupyter notebook, or you might like to start over with a new file!  You can see the list of files in the workspace by clicking on **_Jupyter_** in the top left corner of the notebook.\n",
    "- In this coding environment, you will not be able to watch the agent while it is training.  However, **_after training the agent_**, you can download the saved model weights to watch the agent on your own machine! "
   ]
  },
  {
   "cell_type": "code",
   "execution_count": 1,
   "metadata": {},
   "outputs": [
    {
     "name": "stdout",
     "output_type": "stream",
     "text": [
      "\u001b[31mtensorflow 1.7.1 has requirement numpy>=1.13.3, but you'll have numpy 1.12.1 which is incompatible.\u001b[0m\r\n",
      "\u001b[31mipython 6.5.0 has requirement prompt-toolkit<2.0.0,>=1.0.15, but you'll have prompt-toolkit 3.0.10 which is incompatible.\u001b[0m\r\n"
     ]
    }
   ],
   "source": [
    "!pip -q install ./python"
   ]
  },
  {
   "cell_type": "markdown",
   "metadata": {},
   "source": [
    "### Create Banana Collector Unity Environment"
   ]
  },
  {
   "cell_type": "code",
   "execution_count": 2,
   "metadata": {},
   "outputs": [
    {
     "name": "stderr",
     "output_type": "stream",
     "text": [
      "INFO:unityagents:\n",
      "'Academy' started successfully!\n",
      "Unity Academy name: Academy\n",
      "        Number of Brains: 1\n",
      "        Number of External Brains : 1\n",
      "        Lesson number : 0\n",
      "        Reset Parameters :\n",
      "\t\t\n",
      "Unity brain name: BananaBrain\n",
      "        Number of Visual Observations (per agent): 0\n",
      "        Vector Observation space type: continuous\n",
      "        Vector Observation space size (per agent): 37\n",
      "        Number of stacked Vector Observation: 1\n",
      "        Vector Action space type: discrete\n",
      "        Vector Action space size (per agent): 4\n",
      "        Vector Action descriptions: , , , \n"
     ]
    },
    {
     "name": "stdout",
     "output_type": "stream",
     "text": [
      "Number of agents: 1\n",
      "Number of actions: 4\n",
      "States look like: [ 1.          0.          0.          0.          0.84408134  0.          0.\n",
      "  1.          0.          0.0748472   0.          1.          0.          0.\n",
      "  0.25755     1.          0.          0.          0.          0.74177343\n",
      "  0.          1.          0.          0.          0.25854847  0.          0.\n",
      "  1.          0.          0.09355672  0.          1.          0.          0.\n",
      "  0.31969345  0.          0.        ]\n",
      "States have length: 37\n"
     ]
    }
   ],
   "source": [
    "from unityagents import UnityEnvironment\n",
    "import numpy as np\n",
    "\n",
    "# please do not modify the line below\n",
    "env = UnityEnvironment(file_name=\"/data/Banana_Linux_NoVis/Banana.x86_64\")\n",
    "\n",
    "# get the default brain\n",
    "brain_name = env.brain_names[0]\n",
    "brain = env.brains[brain_name]\n",
    "\n",
    "# reset the environment\n",
    "env_info = env.reset(train_mode=True)[brain_name]\n",
    "\n",
    "# number of agents in the environment\n",
    "print('Number of agents:', len(env_info.agents))\n",
    "\n",
    "# number of actions\n",
    "action_size = brain.vector_action_space_size\n",
    "print('Number of actions:', action_size)\n",
    "\n",
    "# examine the state space \n",
    "state = env_info.vector_observations[0]\n",
    "print('States look like:', state)\n",
    "state_size = len(state)\n",
    "print('States have length:', state_size)"
   ]
  },
  {
   "cell_type": "markdown",
   "metadata": {},
   "source": [
    "### Parameters"
   ]
  },
  {
   "cell_type": "code",
   "execution_count": 3,
   "metadata": {},
   "outputs": [],
   "source": [
    "#Environment parameters\n",
    "#state_size = 37\n",
    "#action_size = 4\n",
    "\n",
    "#Model hidden layer nodes\n",
    "FC1 = 512\n",
    "FC2 = 1024\n",
    "FC3 = 128\n",
    "\n",
    "#Replay Buffer\n",
    "BUFFER_SIZE = 100000     # Replay buffer size, 300 steps per episode  \n",
    "BATCH_SIZE = 32         # Batch size  \n",
    "\n",
    "#Learning Parameters\n",
    "GAMMA = 0.995           # Discount gamma factor  \n",
    "TAU = .001              # Soft update of target parameters\n",
    "LR = 0.0001              # learning rate \n",
    "REPLAY_INTERVAL = 4     # How often replay implemented\n",
    "EPS_START = .998         # Starting  epsilon, for epsilon-greedy action selection\n",
    "EPS_END = 0.03          # Minimum value of epsilon\n",
    "EPS_DECAY = 0.997       # Factor per episode decreasing epsilon\n",
    "EPISODES_MAX = 900      # Maximum number of training episodes, stop earlier if score >13, 100 runs\n",
    "\n",
    "#Other\n",
    "SEED = 64               # Allow for repeatability\n",
    "EPISODE_PRINT = 10      # Contol interval of printing score during training\n",
    "SCORE_WINDOW_SIZE = 100 # Window size to calculate consecutive episode window averages\n",
    "SCORE_THRESHOLD = 13.0  # Score threshold selected for trained agent for this game\n",
    "\n",
    "#Run on GPU or CPU\n",
    "import torch\n",
    "if torch.cuda.is_available():\n",
    "    device = torch.device('cuda')\n",
    "else:\n",
    "    device = torch.device('cpu')"
   ]
  },
  {
   "cell_type": "markdown",
   "metadata": {},
   "source": [
    "### 5. Define Deep Q Model  Class\n",
    "Define Model Network.\n",
    "    Type: Fully Connected Linear Network\n",
    "    Input: Staes = 37\n",
    "    Hidden Layers: = 3 ; Defined by FC1, FC2, FC3\n",
    "    Output: Actions =4"
   ]
  },
  {
   "cell_type": "code",
   "execution_count": 4,
   "metadata": {},
   "outputs": [],
   "source": [
    "import torch.nn as nn\n",
    "import torch.nn.functional as F\n",
    "from torch.autograd import Variable\n",
    "\n",
    "#Linear Network, 3 Hidden Layers, input:state_size , output: action_size\n",
    "class DQN_Model(nn.Module):\n",
    "    def __init__(self):  \n",
    "        super(DQN_Model, self).__init__()\n",
    "        self.seed = torch.manual_seed(SEED)\n",
    "        self.fc1 = nn.Linear(state_size, FC1)\n",
    "        self.fc2 = nn.Linear(FC1, FC2)\n",
    "        self.fc3 = nn.Linear(FC2, FC3)\n",
    "        self.fc4 = nn.Linear(FC3, action_size)\n",
    "        \n",
    "    def forward(self, state): \n",
    "        x = F.relu(self.fc1(state))\n",
    "        x = F.relu(self.fc2(x))\n",
    "        x = F.relu(self.fc3(x))\n",
    "        x = self.fc4(x)\n",
    "        return x    "
   ]
  },
  {
   "cell_type": "markdown",
   "metadata": {},
   "source": [
    "### Define Agent Class\n",
    "    init: states, actions, local/target models, optimizer\n",
    "    step: store experiences to replay each step\n",
    "    act: epsilon greedy action\n",
    "    learn: mse loss between target/expected, soft update\n",
    "    \n",
    "    Implementing approach with:\n",
    "        Experience Replay - Avoid high correlation of sequential training\n",
    "        Fixed Q-Target - Address correlation between the target and the parameters for a single model af a/s\n",
    "        Get Q value for current state and action and target  q value for next state and action\n",
    "        Double DQN - Two estimators attempt agree on actions - REMOVED, did not converge as fast"
   ]
  },
  {
   "cell_type": "code",
   "execution_count": 5,
   "metadata": {},
   "outputs": [],
   "source": [
    "import numpy as np\n",
    "import torch.optim as optim\n",
    "import random\n",
    "\n",
    "class DQN_Agent():\n",
    "    #Adapted from Deep_Q_Network_Solution.ipynb as part of Udacity Lesson\n",
    "    #Re-used soft update method, use of .gather, and step replay funcion\n",
    "    #Class init\n",
    "    def __init__(self):\n",
    "        self.seed = random.seed(SEED)        \n",
    "        # DQ-Networks (local and target). Instantiate DQN_Model\n",
    "        # Run on GPU (.to(device) if available else CPU; move before optimizers)\n",
    "        self.dqn_current  = DQN_Model().to(device)\n",
    "        self.dqn_target = DQN_Model().to(device)\n",
    "        #torch.optim.SGD was not effective -- flat\n",
    "        #Optimizer Adam: Stochastic Optimization, performed well\n",
    "        #torch.optim.Adam(params, lr=0.001, betas=(0.9, 0.999), eps=1e-08, weight_decay=0, amsgrad=False)\n",
    "        self.optimizer = optim.Adam(self.dqn_current.parameters(), lr=LR)       \n",
    "        # Instantiate Replay memory\n",
    "        self.memory = ReplayBuffer()\n",
    "        \n",
    "        # Initialize time step (for REPLAY_INTERVAL)\n",
    "        self.time_step = 0\n",
    "\n",
    "    \n",
    "    #Select and return action\n",
    "    def get_action(self, state, eps):\n",
    "        #Get action from current        \n",
    "        state = torch.from_numpy(state).float().unsqueeze(0).to(device)\n",
    "        self.dqn_current.eval()\n",
    "        with torch.no_grad():\n",
    "            action_values = self.dqn_current(state).to(device)\n",
    "        self.dqn_current.train()\n",
    "        \n",
    "        # Epsilon-greedy action selection\n",
    "        if random.random() > eps:\n",
    "            return np.argmax(action_values.data.cpu().numpy())\n",
    "        else:\n",
    "            return np.random.randint(action_size)\n",
    "        \n",
    "    def dqn_learn(self, experiences): \n",
    "        #experiences (Tuple[torch.Tensor]): tuple of (s, a, r, s', done) tuples \n",
    "        states, actions, rewards, next_states, dones = experiences\n",
    "        self.dqn_target.eval()\n",
    "        q_target_next = self.dqn_target(next_states).detach().max(1)[0].unsqueeze(1)\n",
    "        \n",
    "        # Compute Q targets/expected for current states \n",
    "        self.dqn_current.eval()\n",
    "        q_target = rewards + (GAMMA * q_target_next * (1 - dones))        \n",
    "        q_current = self.dqn_current(states).gather(1, actions)\n",
    "    \n",
    "        # Minimize the loss\n",
    "        self.dqn_current.train()\n",
    "        self.dqn_target.train()\n",
    "        criterion = torch.nn.MSELoss().to(device)\n",
    "        loss = criterion(q_current, q_target).to(device)\n",
    "        self.optimizer.zero_grad()\n",
    "        loss.backward()\n",
    "        self.optimizer.step()     \n",
    "\n",
    "        # Soft Update target network, for discrete\n",
    "        #target_weights = target_weights * (1-TAU) + q_weights * TAU where TAU 0-1\n",
    "        #Method based on \n",
    "        for target_param, current_param in zip(self.dqn_target.parameters(), self.dqn_current.parameters()):\n",
    "            target_param.data.copy_(TAU * current_param.data + (1.0 - TAU) * target_param.data)\n",
    "            \n",
    "    #Record data for step in replay memory        \n",
    "    def record_step(self, state, action, reward, next_state, done):\n",
    "        # Save experience in replay memory\n",
    "        self.memory.add(state, action, reward, next_state, done)\n",
    "       # Learn after number of time steps\n",
    "        self.time_step = self.time_step + 1\n",
    "        if self.time_step % REPLAY_INTERVAL == 0:\n",
    "            # If enough samples are available in memory, get random subset and learn           \n",
    "            if len(self.memory) > BATCH_SIZE:\n",
    "                experiences = self.memory.sample()\n",
    "                self.dqn_learn(experiences)  \n",
    "  "
   ]
  },
  {
   "cell_type": "markdown",
   "metadata": {},
   "source": [
    "### Define ReplayBuffer Class\n",
    "    init: buffer/batch size; state/action size\n",
    "    add: add experience to memory\n",
    "    sample: get exereiences = batch_size\n",
    "    len: current memory used"
   ]
  },
  {
   "cell_type": "code",
   "execution_count": 6,
   "metadata": {},
   "outputs": [],
   "source": [
    "from collections import namedtuple, deque\n",
    "\n",
    "class ReplayBuffer:\n",
    "    def __init__(self):\n",
    "        # https://acsweb.ucsd.edu/~wfedus/pdf/replay.pdf indicated larger buffer, better performance 20:1 for buffer size\n",
    "        # and 4 for replay interval is typical for dqn, ALso benefit to dropping older experiences so \n",
    "        # using deque allows older experience to drop off\n",
    "        # Each episone ~300 steps, and should converge ~500 so taking 15:1 = 10000 buffer size\n",
    "        self.memory = deque(maxlen=BUFFER_SIZE)  \n",
    "        self.batch_size = BATCH_SIZE\n",
    "        self.experience = namedtuple(\"buffer\", field_names=[\"state\", \"action\", \"reward\", \"next_state\", \"done\"])\n",
    "        self.seed = random.seed(SEED)\n",
    "        \n",
    "    #Add Experience\n",
    "    def add(self, state, action, reward, next_state, done):  \n",
    "        self.memory.append(self.experience(state, action, reward, next_state, done*1))\n",
    "        \n",
    "    #Sample a batch of experiences\n",
    "    def sample(self):\n",
    "        #Creates random sample as list\n",
    "        experiences = random.sample(self.memory, BATCH_SIZE)\n",
    "        states, actions, rewards, next_states, dones = [],[],[],[],[]\n",
    "        for e in experiences:\n",
    "            #states, actions, rewards, next_states, dones = e = e[0],e[1],e[2],e[3],e[4]     \n",
    "            states.append(e[0]), actions.append(e[1]), rewards.append(e[2]), next_states.append(e[3]), dones.append(e[4]*1)\n",
    "        return (torch.FloatTensor(states).view(BATCH_SIZE,-1).to(device),\n",
    "            torch.LongTensor(actions).view(BATCH_SIZE,-1).to(device),\n",
    "            torch.FloatTensor(rewards).view(BATCH_SIZE,-1).to(device),\n",
    "            torch.FloatTensor(next_states).view(BATCH_SIZE,-1).to(device),\n",
    "            torch.FloatTensor(dones).view(BATCH_SIZE,-1).to(device) )\n",
    "\n",
    "    #Clear Buffer\n",
    "    def clear(self):\n",
    "        self.memory.queue.clear()\n",
    " \n",
    "    #Current Memory Used\n",
    "    def __len__(self):\n",
    "        return len(self.memory)"
   ]
  },
  {
   "cell_type": "markdown",
   "metadata": {},
   "source": [
    "### Define Agent Training Routine"
   ]
  },
  {
   "cell_type": "code",
   "execution_count": 14,
   "metadata": {},
   "outputs": [],
   "source": [
    "import math\n",
    "def DQN_Train(episodes=EPISODES_MAX):    \n",
    "    #Variables declarations\n",
    "    agent= DQN_Agent()\n",
    "    scores = []                        # scores from each episode\n",
    "    scores_window = deque(maxlen=SCORE_WINDOW_SIZE)  # Last 100 scores, deque circular buffer; need 13 ave 100 consecutive runs\n",
    "    eps = EPS_START                    # epsilon Start\n",
    "    \n",
    "    #Epsisode loop for training\n",
    "    for episode in range(1, episodes+1):\n",
    "        env_info = env.reset(train_mode=True)[brain_name]  # reset the environment\n",
    "        state = env_info.vector_observations[0]            # get the current state\n",
    "        score = 0\n",
    "        step_t = 0\n",
    "        while True:\n",
    "            action = agent.get_action(state, eps)          # select an action           \n",
    "            env_info = env.step(action)[brain_name]        # send the action to the environment\n",
    "            next_state = env_info.vector_observations[0]   # get the next state\n",
    "            reward = env_info.rewards[0]                   # get the reward\n",
    "            done = env_info.local_done[0]                  # see if episode has finished\n",
    "            agent.record_step(state, action, reward, next_state, done) #\n",
    "            score += reward                                # update the score\n",
    "            state = next_state                             # roll over the state to next time step\n",
    "            if done:                                       # exit loop if episode finished\n",
    "                break    \n",
    "        scores_window.append(score)                        # save most recent score\n",
    "        scores.append(score)\n",
    "      \n",
    "       #Decrease epsilon as learning progresses\n",
    "        #eps gready exponential_decay from http://takashinagata.com/2020/04/09/Quick_Recap_of_eps_greedy.html\n",
    "        #eps = max(EPS_END, EPS_END + (EPS_START - EPS_END) * math.exp(-1. * episode / EPS_DECAY))\n",
    "        #eps compounding_dacay\n",
    "            #version 1 eps = max(EPS_END, EPS_END + (EPS_START - EPS_END) * EPS_DECAY**(episode))\n",
    "            #version 2 eps = max(EPS_END, EPS_DECAY**(episode))\n",
    "            #version 3 eps = eps = max(EPS_END, EPS_DECAY**( max( (episode-100),EPS_START) ))\n",
    "        eps = max(EPS_END, EPS_DECAY**(episode))\n",
    "        \n",
    "        #Score Avg, Standard Deviation\n",
    "        avg_score = np.mean(scores_window)\n",
    "        score_std = np.std(scores_window)\n",
    "                    \n",
    "        #Print prgress\n",
    "        if episode % EPISODE_PRINT == 0:\n",
    "            print('Episode: {}\\tAvg: {:.1f}\\t EPS: {:.2f}\\t Std: {:.2f}'.format(episode, avg_score, eps, score_std ))     \n",
    "        #Save wieghts every 100  \n",
    "        if episode % 100 == 0:\n",
    "            torch.save(agent.dqn_current.state_dict(), 'model.pt')         \n",
    "                    \n",
    "    return scores"
   ]
  },
  {
   "cell_type": "markdown",
   "metadata": {},
   "source": [
    "## Run Training\n"
   ]
  },
  {
   "cell_type": "code",
   "execution_count": 15,
   "metadata": {
    "scrolled": true
   },
   "outputs": [
    {
     "name": "stdout",
     "output_type": "stream",
     "text": [
      "Episode: 10\tAvg: 0.3\t EPS: 0.82\t Std: 1.10\n",
      "Episode: 20\tAvg: -0.1\t EPS: 0.67\t Std: 1.53\n",
      "Episode: 30\tAvg: 0.2\t EPS: 0.55\t Std: 1.76\n",
      "Episode: 40\tAvg: 0.5\t EPS: 0.45\t Std: 1.72\n",
      "Episode: 50\tAvg: 0.9\t EPS: 0.36\t Std: 1.92\n",
      "Episode: 60\tAvg: 1.4\t EPS: 0.30\t Std: 2.39\n",
      "Episode: 70\tAvg: 1.7\t EPS: 0.24\t Std: 2.57\n",
      "Episode: 80\tAvg: 2.1\t EPS: 0.20\t Std: 2.74\n",
      "Episode: 90\tAvg: 2.4\t EPS: 0.16\t Std: 2.90\n",
      "Episode: 100\tAvg: 2.4\t EPS: 0.13\t Std: 2.79\n",
      "Episode: 110\tAvg: 3.0\t EPS: 0.11\t Std: 3.34\n",
      "Episode: 120\tAvg: 3.5\t EPS: 0.09\t Std: 3.29\n",
      "Episode: 130\tAvg: 3.8\t EPS: 0.07\t Std: 3.19\n",
      "Episode: 140\tAvg: 4.4\t EPS: 0.06\t Std: 3.40\n",
      "Episode: 150\tAvg: 4.6\t EPS: 0.05\t Std: 3.48\n",
      "Episode: 160\tAvg: 4.7\t EPS: 0.04\t Std: 3.60\n",
      "Episode: 170\tAvg: 4.9\t EPS: 0.03\t Std: 3.80\n",
      "Episode: 180\tAvg: 4.9\t EPS: 0.03\t Std: 3.80\n",
      "Episode: 190\tAvg: 5.2\t EPS: 0.03\t Std: 4.21\n",
      "Episode: 200\tAvg: 6.1\t EPS: 0.03\t Std: 4.63\n",
      "Episode: 210\tAvg: 6.2\t EPS: 0.03\t Std: 4.52\n",
      "Episode: 220\tAvg: 6.9\t EPS: 0.03\t Std: 4.79\n",
      "Episode: 230\tAvg: 7.6\t EPS: 0.03\t Std: 4.95\n",
      "Episode: 240\tAvg: 8.2\t EPS: 0.03\t Std: 5.10\n",
      "Episode: 250\tAvg: 8.8\t EPS: 0.03\t Std: 5.19\n",
      "Episode: 260\tAvg: 9.4\t EPS: 0.03\t Std: 5.02\n",
      "Episode: 270\tAvg: 10.0\t EPS: 0.03\t Std: 4.78\n",
      "Episode: 280\tAvg: 10.5\t EPS: 0.03\t Std: 4.51\n",
      "Episode: 290\tAvg: 10.8\t EPS: 0.03\t Std: 4.04\n",
      "Episode: 300\tAvg: 10.9\t EPS: 0.03\t Std: 4.08\n",
      "Episode: 310\tAvg: 11.1\t EPS: 0.03\t Std: 3.94\n",
      "Episode: 320\tAvg: 11.1\t EPS: 0.03\t Std: 3.80\n",
      "Episode: 330\tAvg: 11.2\t EPS: 0.03\t Std: 3.85\n",
      "Episode: 340\tAvg: 11.3\t EPS: 0.03\t Std: 3.81\n",
      "Episode: 350\tAvg: 11.5\t EPS: 0.03\t Std: 3.56\n",
      "Episode: 360\tAvg: 11.6\t EPS: 0.03\t Std: 3.70\n",
      "Episode: 370\tAvg: 11.7\t EPS: 0.03\t Std: 3.84\n",
      "Episode: 380\tAvg: 12.1\t EPS: 0.03\t Std: 3.99\n",
      "Episode: 390\tAvg: 12.3\t EPS: 0.03\t Std: 4.13\n",
      "Episode: 400\tAvg: 12.3\t EPS: 0.03\t Std: 4.25\n",
      "Episode: 410\tAvg: 12.8\t EPS: 0.03\t Std: 4.35\n",
      "Episode: 420\tAvg: 12.7\t EPS: 0.03\t Std: 4.60\n",
      "Episode: 430\tAvg: 13.1\t EPS: 0.03\t Std: 4.61\n",
      "Episode: 440\tAvg: 13.1\t EPS: 0.03\t Std: 4.62\n",
      "Episode: 450\tAvg: 13.3\t EPS: 0.03\t Std: 4.67\n",
      "Episode: 460\tAvg: 13.6\t EPS: 0.03\t Std: 4.64\n",
      "Episode: 470\tAvg: 13.9\t EPS: 0.03\t Std: 4.53\n",
      "Episode: 480\tAvg: 13.9\t EPS: 0.03\t Std: 4.41\n",
      "Episode: 490\tAvg: 14.1\t EPS: 0.03\t Std: 4.46\n",
      "Episode: 500\tAvg: 14.1\t EPS: 0.03\t Std: 4.23\n"
     ]
    }
   ],
   "source": [
    "EPISODE_PRINT = 10\n",
    "SEED = 64\n",
    "EPS_DECAY = 0.98\n",
    "EPS_END = 0.03\n",
    "LR = 0.0001\n",
    "BATCH_SIZE = 64 \n",
    "scores = DQN_Train(episodes=500)"
   ]
  },
  {
   "cell_type": "markdown",
   "metadata": {},
   "source": [
    "\n",
    "# Plot Performance\n"
   ]
  },
  {
   "cell_type": "code",
   "execution_count": 16,
   "metadata": {},
   "outputs": [
    {
     "name": "stdout",
     "output_type": "stream",
     "text": [
      "Banana Collector Score vs Episode (Red Line - Score Threshold)\n"
     ]
    },
    {
     "data": {
      "image/png": "[encoded data removed]",
      "text/plain": [
       "<matplotlib.figure.Figure at 0x7fb9ac143358>"
      ]
     },
     "metadata": {
      "needs_background": "light"
     },
     "output_type": "display_data"
    }
   ],
   "source": [
    "from matplotlib import pyplot as plt\n",
    "# Plot the scores\n",
    "fig = plt.figure(figsize=(12,6))\n",
    "ax = fig.add_subplot(111)\n",
    "plt.plot(np.arange(len(scores)), scores)\n",
    "plt.ylabel('Score')\n",
    "plt.xlabel('Episode')\n",
    "plt.axhline(y=SCORE_THRESHOLD, color='r', linestyle='-')\n",
    "print(\"Banana Collector Score vs Episode (Red Line - Score Threshold)\")\n",
    "plt.show()\n",
    "\n"
   ]
  },
  {
   "cell_type": "code",
   "execution_count": null,
   "metadata": {},
   "outputs": [],
   "source": [
    "env.close()"
   ]
  },
  {
   "cell_type": "markdown",
   "metadata": {},
   "source": [
    "### Parameter Tuning notes\n",
    "\n",
    "DDQN, EPS decay method\n",
    "256x128x64\n",
    "Cases 0:\n",
    "    Early tuning adjusted LR .01 which was poor, LR=.001 was good   \n",
    "    Increased REPLAY_BUFFER 2000 to 10000\n",
    "    LR .0005, EPS 400, peak 800 episodes 14, then started to decline\n",
    "    EPS \n",
    "Case 1: EP: 500, EPS_DECAY = 400, LR=.001 >> \n",
    "    Episode 500:    Avg: 8.0 \n",
    "Case 2: EP: 900, EPS_DECAY = 200, LR=.001 \n",
    "    Episode: 300\tAvg: 7.0\t EPS: 0.23\t Std: 2.99\t TGT: -8.99\n",
    "    Episode: 600\tAvg: 11.6\t EPS: 0.06\t Std: 3.42\t TGT: -4.81\n",
    "    Episode: 900\tAvg: 12.2\t EPS: 0.02\t Std: 3.62\t TGT: -4.46\n",
    "Case 3: EP: 900, EPS_DECAY = 300, LR=.001 \n",
    "    Episode: 300\tAvg: 3.8\t EPS: 0.37\t Std: 2.33\t TGT: -11.49\n",
    "    Episode: 600\tAvg: 9.0\t EPS: 0.14\t Std: 3.37\t TGT: -7.38\n",
    "    Episode: 900\tAvg: 11.8\t EPS: 0.06\t Std: 3.66\t TGT: -4.89\n",
    "    ** Hihger EPS_DECAY more exploration later in training\n",
    "Case 4: EP: 900, EPS_DECAY = 100, LR=.001 \n",
    "    Episode: 300\tAvg: 6.8\t EPS: 0.06\t Std: 4.12\t TGT: -10.30\n",
    "    Episode: 600\tAvg: 11.7\t EPS: 0.01\t Std: 3.89\t TGT: -5.22\n",
    "    Episode: 900\tAvg: 9.8\t EPS: 0.01\t Std: 4.92\t TGT: -8.15    \n",
    "     ** Lower EPS_DECAY  exploration stops around 600, peaked around avg score 10-11 @ 750 eps, then declined\n",
    "Case 5: EP: 900, EPS_DECAY =150 \n",
    "    Episode: 300\tAvg: 5.8\t EPS: 0.14\t Std: 3.80\t TGT: -10.98\n",
    "    Episode: 600\tAvg: 11.3\t EPS: 0.03\t Std: 4.65\t TGT: -6.33\n",
    "    Episode: 900\tAvg: 10.8\t EPS: 0.01\t Std: 4.84\t TGT: -7.01\n",
    "Case 6: EP: 1200, EPS_DECAY =250 , EPS_END= .04\n",
    "    Episode: 300\tAvg: 3.8\t EPS: 0.40\t Std: 2.56\t TGT: -11.73\n",
    "    Episode: 600\tAvg: 9.3\t EPS: 0.18\t Std: 3.41\t TGT: -7.09\n",
    "    Episode: 900\tAvg: 11.2\t EPS: 0.10\t Std: 3.29\t TGT: -5.12  \n",
    "    Episode: 1200\tAvg: 11.8\t SAT: 0.07\t Std: 3.45\t TGT: -4.69    \n",
    "\n",
    "Removed DDQN, EPS decay method (compounding)\n",
    "Case 7: EP: 600, EPS_DECAY = .995, LR=.0005 \n",
    "    Episode: 300\tAvg: 6.5\t EPS: 0.24\t Std: 2.89\t TGT_ZERO: -9.35\n",
    "    Episode: 600\tAvg: 9.3\t EPS: 0.07\t Std: 3.68\t TGT_ZERO: -7.37\n",
    "    ** Peak 570 10.5 then declining\n",
    "Case 8: EP: 600, EPS_DECAY = 300, LR=.001   \n",
    "    Episode: 300\tAvg: 4.6\t EPS: 0.38\t Std: 2.42\t TGT_ZERO: -10.80\n",
    "    Episode: 600\tAvg: 8.9\t EPS: 0.15\t Std: 3.51\t TGT_ZERO: -7.64\n",
    "Case 9: EP: 900, EPS_DECAY = 200, LR=.001   \n",
    "    Episode: 300\tAvg: 6.5\t EPS: 0.24\t Std: 2.75\t TGT_ZERO: -9.29\n",
    "    Episode: 600\tAvg: 11.5\t EPS: 0.07\t Std: 3.62\t TGT_ZERO: -5.13\n",
    "    Episode: 900\tAvg: 13.2\t EPS: 0.03\t Std: 3.66\t TGT_ZERO: -3.48\n",
    "    ** Reached target threshold 13 at 850 Episodes\n",
    "Case 10: EP: 900, EPS_DECAY = 250, LR=.001       \n",
    "    Episode: 300\tAvg: 5.5\t EPS: 0.32\t Std: 2.61\n",
    "    Episode: 600\tAvg: 9.8\t EPS: 0.11\t Std: 3.83\n",
    "    Episode: 900\tAvg: 9.9\t EPS: 0.05\t Std: 4.18\n",
    "    ** Initial 300 EP of learning  linear with higher slope sensitive to lower EPS_DECAY\n",
    "    ** due to higher exploration\n",
    "Case 10: EP: 900, EPS_DECAY = 150, LR=.001\n",
    "    Episode: 300\tAvg: 7.6\t EPS: 0.15\t Std: 3.26\n",
    "    Episode: 600\tAvg: 11.0\t EPS: 0.04\t Std: 3.67\n",
    "    Episode: 900\tAvg: 11.4\t EPS: 0.02\t Std: 4.20\n",
    "    ** Peak 11.2 500 Episodes\n",
    "Case 11: Repeate Case 9; EPS_DECAY = 200, LR=.001    Reduce BUFFER_SIZE 3000 from 10000\n",
    "    Episode: 300\tAvg: 4.5\t EPS: 0.24\t Std: 2.91\n",
    "    Episode: 600\tAvg: 9.5\t EPS: 0.07\t Std: 3.85\n",
    "    Episode: 900\tAvg: 8.9\t EPS: 0.03\t Std: 4.47\n",
    "    ** Peak 10.2 700 Episodes\n",
    "Case 12: EPS_DECAY = 200, LR=.0005    Reduce BUFFER_SIZE to 60000 , BATCH_SIZE 64 to 128\n",
    "    Episode: 300\tAvg: 6.7\t EPS: 0.29\t Std: 2.97\n",
    "    Episode: 600\tAvg: 9.9\t EPS: 0.13\t Std: 3.38\n",
    "    Episode: 900\tAvg: 11.1\t EPS: 0.09\t Std: 3.67\n",
    "\n",
    "Case 13: \n",
    "    Made changes model, LR to try get better tuning\n",
    "        Changed FC layers 512x1024x128\n",
    "        BUFFER_SIZE = 100000 \n",
    "        BATCH_SIZE = 64 \n",
    "        GAMMA = 0.995 \n",
    "        TAU = .001 \n",
    "        LR = 0.0001 \n",
    "        EPS_DECAY = 0.995\n",
    "    EPS_DECAY = 0.995 \n",
    "    Episode: 300\tAvg: 5.6\t EPS: 0.22\t Std: 3.10\n",
    "    Episode: 600\tAvg: 11.9\t EPS: 0.05\t Std: 4.12 peak \n",
    "    peak start about 480 at ~12\n",
    "Case 13: \n",
    "    EPS_DECAY = 0.998 and set EPS = 1 for epsode <=100; else EPS = EPS_DECAY^(episode-100)\n",
    "    Episode: 300\tAvg: 2.0\t EPS: 0.55\t Std: 1.92\n",
    "    Episode: 600\tAvg: 7.7\t EPS: 0.22\t Std: 2.91\n",
    "Case 14:  EPS_DECAY = 0.998\n",
    "    Episode: 200\tAvg: 6.1\t EPS: 0.13\t Std: 3.36\n",
    "Case 15:  EPS_DECAY = 0.98\n",
    "    Episode: 300\tAvg: 10.0\t EPS: 0.03\t Std: 4.18"
   ]
  }
 ],
 "metadata": {
  "kernelspec": {
   "display_name": "Python 3",
   "language": "python",
   "name": "python3"
  },
  "language_info": {
   "codemirror_mode": {
    "name": "ipython",
    "version": 3
   },
   "file_extension": ".py",
   "mimetype": "text/x-python",
   "name": "python",
   "nbconvert_exporter": "python",
   "pygments_lexer": "ipython3",
   "version": "3.6.3"
  }
 },
 "nbformat": 4,
 "nbformat_minor": 2
}
